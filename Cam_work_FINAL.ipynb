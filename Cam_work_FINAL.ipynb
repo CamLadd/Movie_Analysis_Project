{
 "cells": [
  {
   "cell_type": "markdown",
   "metadata": {},
   "source": [
    "![example](images/director_shot.jpeg)"
   ]
  },
  {
   "cell_type": "markdown",
   "metadata": {},
   "source": [
    "# Determining Optimal Attributes for a Movie Release\n",
    "\n",
    "**Authors:** Cameron T Ladd, Ji Hoon Chung\n",
    "***"
   ]
  },
  {
   "cell_type": "markdown",
   "metadata": {},
   "source": [
    "## Overview\n",
    "\n",
    "A one-paragraph overview of the project, including the business problem, data, methods, results and recommendations."
   ]
  },
  {
   "cell_type": "markdown",
   "metadata": {},
   "source": [
    "## Business Problem\n",
    "\n",
    "Summary of the business problem you are trying to solve, and the data questions that you plan to answer to solve them.\n",
    "\n",
    "***\n",
    "Questions to consider:\n",
    "* What are the business's pain points related to this project?\n",
    "* How did you pick the data analysis question(s) that you did?\n",
    "* Why are these questions important from a business perspective?\n",
    "***"
   ]
  },
  {
   "cell_type": "markdown",
   "metadata": {},
   "source": [
    "1. What is the most profitable kind of movie by genre?\n",
    "2. What is the optimal runtime of each movie per genre?\n",
    "3. What season is the best time to release per genre?"
   ]
  },
  {
   "cell_type": "markdown",
   "metadata": {},
   "source": [
    "## Data Understanding\n",
    "\n",
    "Describe the data being used for this project.\n",
    "***\n",
    "Questions to consider:\n",
    "* Where did the data come from, and how do they relate to the data analysis questions?\n",
    "* What do the data represent? Who is in the sample and what variables are included?\n",
    "* What is the target variable?\n",
    "* What are the properties of the variables you intend to use?\n",
    "***"
   ]
  },
  {
   "cell_type": "markdown",
   "metadata": {},
   "source": [
    "## IMPORT MODULES"
   ]
  },
  {
   "cell_type": "code",
   "execution_count": 9,
   "metadata": {},
   "outputs": [],
   "source": [
    "# Import standard packages\n",
    "import pandas as pd\n",
    "import numpy as np\n",
    "import matplotlib.pyplot as plt\n",
    "import seaborn as sns\n",
    "import datetime as dt\n",
    "\n",
    "%matplotlib inline"
   ]
  },
  {
   "cell_type": "code",
   "execution_count": 10,
   "metadata": {},
   "outputs": [],
   "source": [
    "# Examine data folder contents\n",
    "# !ls data/zippedData"
   ]
  },
  {
   "cell_type": "markdown",
   "metadata": {},
   "source": [
    "## IMPORT ALL DATA"
   ]
  },
  {
   "cell_type": "code",
   "execution_count": 11,
   "metadata": {},
   "outputs": [],
   "source": [
    "#Box Office Mojo Data (bom)\n",
    "bom_moviegross_df = pd.read_csv('zippedData/bom.movie_gross.csv.gz')\n",
    "\n",
    "#IMDB Data (imdb)\n",
    "imdb_title_basics_df = pd.read_csv('zippedData/imdb.title.basics.csv.gz')\n",
    "\n",
    "#The Numbers (tn)\n",
    "tn_movie_budgets_df = pd.read_csv('zippedData/tn.movie_budgets.csv.gz')"
   ]
  },
  {
   "cell_type": "markdown",
   "metadata": {},
   "source": [
    "## PREVIEW DataFrames IN USE"
   ]
  },
  {
   "cell_type": "code",
   "execution_count": 12,
   "metadata": {},
   "outputs": [],
   "source": [
    "# bom_moviegross_df.head()"
   ]
  },
  {
   "cell_type": "code",
   "execution_count": 13,
   "metadata": {},
   "outputs": [],
   "source": [
    "# imdb_title_basics_df.head()"
   ]
  },
  {
   "cell_type": "code",
   "execution_count": 14,
   "metadata": {},
   "outputs": [],
   "source": [
    "# tn_movie_budgets_df.head()"
   ]
  },
  {
   "cell_type": "markdown",
   "metadata": {},
   "source": [
    "## Preliminary check for missing values"
   ]
  },
  {
   "cell_type": "code",
   "execution_count": 15,
   "metadata": {},
   "outputs": [],
   "source": [
    "# bom_moviegross_df.isna().sum()"
   ]
  },
  {
   "cell_type": "code",
   "execution_count": 16,
   "metadata": {},
   "outputs": [],
   "source": [
    "# imdb_title_basics_df.isna().sum()"
   ]
  },
  {
   "cell_type": "code",
   "execution_count": 17,
   "metadata": {},
   "outputs": [],
   "source": [
    "# tn_movie_budgets_df.isna().sum()"
   ]
  },
  {
   "cell_type": "markdown",
   "metadata": {},
   "source": [
    "## Data Preparation\n",
    "\n",
    "Describe and justify the process for preparing the data for analysis.\n",
    "\n",
    "***\n",
    "Questions to consider:\n",
    "* Were there variables you dropped or created?\n",
    "* How did you address missing values or outliers?\n",
    "* Why are these choices appropriate given the data and the business problem?\n",
    "***"
   ]
  },
  {
   "cell_type": "markdown",
   "metadata": {},
   "source": [
    "## Box Office Mojo Data"
   ]
  },
  {
   "cell_type": "code",
   "execution_count": 18,
   "metadata": {},
   "outputs": [],
   "source": [
    "# bom_moviegross_df.info()"
   ]
  },
  {
   "cell_type": "code",
   "execution_count": 19,
   "metadata": {},
   "outputs": [],
   "source": [
    "# bom_moviegross_df['foreign_gross'].describe()"
   ]
  },
  {
   "cell_type": "code",
   "execution_count": 20,
   "metadata": {},
   "outputs": [],
   "source": [
    "# bom_moviegross_df.isna().sum()"
   ]
  },
  {
   "cell_type": "code",
   "execution_count": 21,
   "metadata": {},
   "outputs": [],
   "source": [
    "# bom_moviegross_df['foreign_gross'].shape"
   ]
  },
  {
   "cell_type": "code",
   "execution_count": 22,
   "metadata": {
    "scrolled": true
   },
   "outputs": [
    {
     "name": "stdout",
     "output_type": "stream",
     "text": [
      "0.3985828166519043\n"
     ]
    }
   ],
   "source": [
    "# Find percentage of null values to determine dataset viability\n",
    "num_missing_bom_foreigngross = bom_moviegross_df.isna().sum()['foreign_gross']\n",
    "total_moviegross_entries = len(bom_moviegross_df['foreign_gross'])\n",
    "percentage_missing_foreign = num_missing_bom_foreigngross / total_moviegross_entries\n",
    "print(percentage_missing_foreign)"
   ]
  },
  {
   "cell_type": "code",
   "execution_count": 23,
   "metadata": {},
   "outputs": [
    {
     "name": "stdout",
     "output_type": "stream",
     "text": [
      "1205\n"
     ]
    }
   ],
   "source": [
    "print(len(list(bom_moviegross_df['foreign_gross'].unique())))\n",
    "non_standard = []\n",
    "for x in list(bom_moviegross_df['foreign_gross'].unique()):\n",
    "    if type(x) != int and type(x) != float:\n",
    "        non_standard.append(x)\n",
    "    else:\n",
    "        pass"
   ]
  },
  {
   "cell_type": "code",
   "execution_count": 24,
   "metadata": {},
   "outputs": [
    {
     "name": "stdout",
     "output_type": "stream",
     "text": [
      "1204\n"
     ]
    },
    {
     "data": {
      "text/plain": [
       "[]"
      ]
     },
     "execution_count": 24,
     "metadata": {},
     "output_type": "execute_result"
    }
   ],
   "source": [
    "# Find length of new non-standard list so we know how many of the uniques are floats or ints (just one)\n",
    "print(len(non_standard))\n",
    "# Find out if any of the unique values AREN'T strings\n",
    "[type(x) for x in non_standard if type(x) != str]"
   ]
  },
  {
   "cell_type": "markdown",
   "metadata": {},
   "source": [
    "Let's summarize what we have so far:\n",
    "    \n",
    "    3387 total entries\n",
    "    1350 null values\n",
    "    1204 str type values\n",
    "\n",
    "This leaves:\n",
    "    \n",
    "    833 int/float type values"
   ]
  },
  {
   "cell_type": "code",
   "execution_count": 25,
   "metadata": {},
   "outputs": [],
   "source": [
    "# Converted from str, int, float to exclusively float\n",
    "foreign_gross_numeric = pd.to_numeric(bom_moviegross_df['foreign_gross'], errors = 'coerce', downcast = 'float') \n",
    "# Assigned new series in place of original df series\n",
    "bom_moviegross_df['foreign_gross'] = foreign_gross_numeric\n",
    "# bom_moviegross_df['foreign_gross'].describe()"
   ]
  },
  {
   "cell_type": "code",
   "execution_count": 26,
   "metadata": {},
   "outputs": [],
   "source": [
    "# Adjust the dataset by filling NaN values with the mean (filling it with the median changed the dataset's descriptive statistics much too drastically)\n",
    "foreign_gross_mean = bom_moviegross_df['foreign_gross'].mean()\n",
    "mean_adjusted = bom_moviegross_df['foreign_gross'].fillna(foreign_gross_mean)\n",
    "# Remove all entries with domestic or foreign gross less than 1,000,000, since this is a large company we are concerned with\n",
    "mean_adjusted_removed = bom_moviegross_df[(bom_moviegross_df['foreign_gross'] > 1000000) & (bom_moviegross_df['domestic_gross'] > 1000000)]\n",
    "# mean_adjusted.describe()"
   ]
  },
  {
   "cell_type": "code",
   "execution_count": 27,
   "metadata": {},
   "outputs": [
    {
     "name": "stderr",
     "output_type": "stream",
     "text": [
      "<ipython-input-27-fcbb0c5d7930>:2: SettingWithCopyWarning: \n",
      "A value is trying to be set on a copy of a slice from a DataFrame\n",
      "\n",
      "See the caveats in the documentation: https://pandas.pydata.org/pandas-docs/stable/user_guide/indexing.html#returning-a-view-versus-a-copy\n",
      "  mean_adjusted_removed.dropna(axis=0, how='any', inplace=True)\n",
      "/Users/jihoon/opt/anaconda3/lib/python3.8/site-packages/pandas/core/frame.py:4163: SettingWithCopyWarning: \n",
      "A value is trying to be set on a copy of a slice from a DataFrame\n",
      "\n",
      "See the caveats in the documentation: https://pandas.pydata.org/pandas-docs/stable/user_guide/indexing.html#returning-a-view-versus-a-copy\n",
      "  return super().drop(\n"
     ]
    }
   ],
   "source": [
    "# Remove entries that don't have a domestic gross value, since it only constitutes a small portion of the data\n",
    "mean_adjusted_removed.dropna(axis=0, how='any', inplace=True)\n",
    "# Drop columns that will not be used\n",
    "mean_adjusted_removed.drop('year', axis=1, inplace=True)\n",
    "mean_adjusted_removed.drop('studio', axis=1, inplace=True)"
   ]
  },
  {
   "cell_type": "code",
   "execution_count": 28,
   "metadata": {},
   "outputs": [],
   "source": [
    "# Assign the cleaned dataframe a new index and variable\n",
    "final_moviegross_df = mean_adjusted_removed.set_index('title')\n",
    "final_moviegross_df['total_gross'] = final_moviegross_df['domestic_gross'] + final_moviegross_df['foreign_gross']"
   ]
  },
  {
   "cell_type": "code",
   "execution_count": 29,
   "metadata": {},
   "outputs": [],
   "source": [
    "# final_moviegross_df"
   ]
  },
  {
   "cell_type": "markdown",
   "metadata": {},
   "source": [
    "## IMDB Title_basics data"
   ]
  },
  {
   "cell_type": "markdown",
   "metadata": {},
   "source": [
    "Let's clean the imdb_title_basics_df"
   ]
  },
  {
   "cell_type": "code",
   "execution_count": 30,
   "metadata": {},
   "outputs": [],
   "source": [
    "# imdb_title_basics_df"
   ]
  },
  {
   "cell_type": "code",
   "execution_count": 31,
   "metadata": {},
   "outputs": [],
   "source": [
    "# Set index to primary_title for merging later\n",
    "imdb_title_index = imdb_title_basics_df.set_index('primary_title')\n",
    "# Drop unused columns\n",
    "imdb_title_index_dropped = imdb_title_index.drop(['tconst', 'original_title', 'start_year'], axis=1)\n",
    "# Drop entries that have missing values (there are very few and we need all values for our analysis)\n",
    "imdb_title_index_removedna = imdb_title_index_dropped.dropna(axis=0, how = 'any')\n",
    "# Assign cleaned DataFrame to new variable\n",
    "final_imdb_title_df = imdb_title_index_removedna"
   ]
  },
  {
   "cell_type": "markdown",
   "metadata": {},
   "source": [
    "Here are the two DataFrames we have so far:"
   ]
  },
  {
   "cell_type": "code",
   "execution_count": 32,
   "metadata": {
    "scrolled": false
   },
   "outputs": [],
   "source": [
    "# final_imdb_title_df"
   ]
  },
  {
   "cell_type": "code",
   "execution_count": 33,
   "metadata": {
    "scrolled": true
   },
   "outputs": [],
   "source": [
    "# final_moviegross_df"
   ]
  },
  {
   "cell_type": "markdown",
   "metadata": {},
   "source": [
    "## tn_movie_budgets_df"
   ]
  },
  {
   "cell_type": "code",
   "execution_count": 34,
   "metadata": {},
   "outputs": [
    {
     "name": "stderr",
     "output_type": "stream",
     "text": [
      "/Users/jihoon/opt/anaconda3/lib/python3.8/site-packages/pandas/core/frame.py:4296: SettingWithCopyWarning: \n",
      "A value is trying to be set on a copy of a slice from a DataFrame\n",
      "\n",
      "See the caveats in the documentation: https://pandas.pydata.org/pandas-docs/stable/user_guide/indexing.html#returning-a-view-versus-a-copy\n",
      "  return super().rename(\n"
     ]
    }
   ],
   "source": [
    "# Stripping dollar signs from the series\n",
    "tn_movie_budgets_df['production_budget'] = tn_movie_budgets_df['production_budget'].map(lambda x: x.lstrip('$'))\n",
    "tn_movie_budgets_df['domestic_gross'] = tn_movie_budgets_df['domestic_gross'].map(lambda x: x.lstrip('$'))\n",
    "tn_movie_budgets_df['worldwide_gross'] = tn_movie_budgets_df['worldwide_gross'].map(lambda x: x.lstrip('$'))\n",
    "# Remove the commas from the series\n",
    "tn_movie_budgets_df.loc[:, \"production_budget\":\"worldwide_gross\"] = tn_movie_budgets_df.loc[:, \"production_budget\":\"worldwide_gross\"].replace(\",\",\"\", regex=True).astype('int64')\n",
    "# Rename the columns\n",
    "tn_movie_budgets_df.rename(columns = {'movie':\"primary_title\"}, inplace = True)\n",
    "final_imdb_title_df.rename(columns = {'primary_title':\"title\"}, inplace = True)"
   ]
  },
  {
   "cell_type": "markdown",
   "metadata": {},
   "source": [
    "## Merging the data"
   ]
  },
  {
   "cell_type": "code",
   "execution_count": 35,
   "metadata": {},
   "outputs": [],
   "source": [
    "# Perform inner merge\n",
    "final_df = tn_movie_budgets_df.merge(final_imdb_title_df, on= 'primary_title', how= 'inner')\n",
    "# Create a total_gross column for further understanding of the data\n",
    "final_df[\"total_gross\"] = final_df[\"domestic_gross\"] + final_df[\"worldwide_gross\"]"
   ]
  },
  {
   "cell_type": "code",
   "execution_count": 36,
   "metadata": {},
   "outputs": [],
   "source": [
    "# final_df"
   ]
  },
  {
   "cell_type": "markdown",
   "metadata": {},
   "source": [
    "## Data Modeling\n",
    "Describe and justify the process for analyzing or modeling the data.\n",
    "\n",
    "***\n",
    "Questions to consider:\n",
    "* How did you analyze or model the data?\n",
    "* How did you iterate on your initial approach to make it better?\n",
    "* Why are these choices appropriate given the data and the business problem?\n",
    "***"
   ]
  },
  {
   "cell_type": "markdown",
   "metadata": {},
   "source": [
    "comment on my code"
   ]
  },
  {
   "cell_type": "markdown",
   "metadata": {},
   "source": [
    "## Average Gross per Genre"
   ]
  },
  {
   "cell_type": "code",
   "execution_count": 37,
   "metadata": {},
   "outputs": [],
   "source": [
    "# Stack the genres columns after removing the columns (must set expand=True so that it returns a DataFrame rather thana series)\n",
    "# Count the total occurences of each genre\n",
    "count = final_df['genres'].str.split(',', expand=True).stack().value_counts()\n",
    "# Copy final_df to another variable\n",
    "genres = final_df.copy()"
   ]
  },
  {
   "cell_type": "code",
   "execution_count": 38,
   "metadata": {},
   "outputs": [],
   "source": [
    "# Split genres into columns\n",
    "genres[['genre1', 'genre2', 'genre3']] = final_df['genres'].str.split(',', expand=True)\n",
    "# Calculate profit per movie\n",
    "genres['profit'] = genres['total_gross'] - genres['production_budget']\n",
    "# genres"
   ]
  },
  {
   "cell_type": "code",
   "execution_count": 39,
   "metadata": {},
   "outputs": [],
   "source": [
    "# Find total world_wide, domestic_ gross, and total_gross for each genre across all entries\n",
    "\n",
    "# Worldwide\n",
    "genre1_worldwide_gross = genres.groupby('genre1')['worldwide_gross'].sum()\n",
    "genre2_worldwide_gross = genres.groupby('genre2')['worldwide_gross'].sum()\n",
    "genre3_worldwide_gross = genres.groupby('genre3')['worldwide_gross'].sum()\n",
    "# Domestic\n",
    "genre1_domestic_gross = genres.groupby('genre1')['domestic_gross'].sum()\n",
    "genre2_domestic_gross = genres.groupby('genre2')['domestic_gross'].sum()\n",
    "genre3_domestic_gross = genres.groupby('genre3')['domestic_gross'].sum()\n",
    "# Total\n",
    "genre1_total_gross = genres.groupby('genre1')['total_gross'].sum()\n",
    "genre2_total_gross = genres.groupby('genre2')['total_gross'].sum()\n",
    "genre3_total_gross = genres.groupby('genre3')['total_gross'].sum()\n",
    "\n",
    "# Add the calculated values and drop insignificant genres\n",
    "\n",
    "# Worldwide\n",
    "genre_total_worldwide_gross = genre1_worldwide_gross.add(genre2_worldwide_gross, fill_value=0).add(genre3_worldwide_gross, fill_value=0)\n",
    "final_genre_worldwide_gross = genre_total_worldwide_gross.drop(['News', 'Reality-TV', 'Romance', 'Biography', 'Mystery', 'Sci-Fi', 'Family', 'Fantasy', 'Animation', 'History', 'Music', 'Sport', 'War', 'Musical', 'Western'])\n",
    "# Domestic\n",
    "genre_total_domestic_gross = genre1_domestic_gross.add(genre2_domestic_gross, fill_value=0).add(genre3_domestic_gross, fill_value=0)\n",
    "final_genre_total_domestic_growth = genre_total_domestic_gross.drop(['News', 'Reality-TV', 'Romance', 'Biography', 'Mystery', 'Sci-Fi', 'Family', 'Fantasy', 'Animation', 'History', 'Music', 'Sport', 'War', 'Musical', 'Western'])\n",
    "# Total\n",
    "genre_total_gross = genre1_total_gross.add(genre2_total_gross, fill_value=0).add(genre3_total_gross, fill_value=0)\n",
    "final_genre_total_gross = genre_total_gross.drop(['News', 'Reality-TV', 'Romance', 'Biography', 'Mystery', 'Sci-Fi', 'Family', 'Fantasy', 'Animation', 'History', 'Music', 'Sport', 'War', 'Musical', 'Western'])"
   ]
  },
  {
   "cell_type": "code",
   "execution_count": 40,
   "metadata": {},
   "outputs": [],
   "source": [
    "#Concatenate series into a useable DataFrame, rename index\n",
    "final_gross_df = pd.concat([final_genre_total_domestic_growth, final_genre_worldwide_gross, final_genre_total_gross], axis=1).reset_index()\n",
    "final_gross_df_cleaned = final_gross_df.set_index('index')\n",
    "final_gross_df_cleaned.index.name = 'Genre'"
   ]
  },
  {
   "cell_type": "code",
   "execution_count": 51,
   "metadata": {},
   "outputs": [
    {
     "data": {
      "text/plain": [
       "Drama          1641\n",
       "Comedy          793\n",
       "Action          647\n",
       "Thriller        544\n",
       "Adventure       469\n",
       "Documentary     452\n",
       "Horror          381\n",
       "Crime           379\n",
       "Romance         350\n",
       "Biography       247\n",
       "Mystery         233\n",
       "Sci-Fi          212\n",
       "Family          189\n",
       "Fantasy         184\n",
       "Animation       137\n",
       "History          90\n",
       "Music            84\n",
       "Sport            70\n",
       "War              48\n",
       "Musical          28\n",
       "Western          18\n",
       "News              7\n",
       "Reality-TV        1\n",
       "dtype: int64"
      ]
     },
     "execution_count": 51,
     "metadata": {},
     "output_type": "execute_result"
    }
   ],
   "source": [
    "count"
   ]
  },
  {
   "cell_type": "code",
   "execution_count": 47,
   "metadata": {},
   "outputs": [
    {
     "data": {
      "text/plain": [
       "<AxesSubplot:>"
      ]
     },
     "execution_count": 47,
     "metadata": {},
     "output_type": "execute_result"
    },
    {
     "data": {
      "image/png": "[encoded data removed]",
      "text/plain": [
       "<Figure size 720x720 with 1 Axes>"
      ]
     },
     "metadata": {
      "needs_background": "light"
     },
     "output_type": "display_data"
    }
   ],
   "source": [
    "# Plot count of each genre to determine the top 8\n",
    "count.plot(kind='bar', figsize=(10,10))"
   ]
  },
  {
   "cell_type": "markdown",
   "metadata": {},
   "source": [
    "The top 8 genres by occurence will be the genres of focus for our analysis. These include Drama, Comedy, Action, Thriller, Adventure, Documentary, Horror, Crime"
   ]
  },
  {
   "cell_type": "code",
   "execution_count": 43,
   "metadata": {},
   "outputs": [],
   "source": [
    "# Concatenate the count series to the final_gross_df_cleaned DataFrame to calculate averages\n",
    "final_gross_avg = pd.concat([final_gross_df_cleaned, count], axis=1)\n",
    "# Clean up DataFrame\n",
    "final_gross_avg.rename(columns = {0:'count'}, inplace=True)\n",
    "final_gross_avg.drop(['News', 'Reality-TV', 'Romance', 'Biography', 'Mystery', 'Sci-Fi', 'Family', 'Fantasy', 'Animation', 'History', 'Music', 'Sport', 'War', 'Musical', 'Western'], inplace=True)\n",
    "# Calculate averages\n",
    "final_gross_avg['domestic_avg'] = final_gross_avg['domestic_gross'] / final_gross_avg['count']\n",
    "final_gross_avg['worldwide_avg'] = final_gross_avg['worldwide_gross'] / final_gross_avg['count']\n",
    "final_gross_avg['total_avg'] = final_gross_avg['total_gross'] / final_gross_avg['count']\n",
    "# Drop unneeded columns for easier plotting\n",
    "final_gross_avg.drop(['domestic_gross', 'worldwide_gross', 'total_gross', 'count', 'total_avg'], axis=1, inplace=True)"
   ]
  },
  {
   "cell_type": "code",
   "execution_count": 44,
   "metadata": {},
   "outputs": [
    {
     "data": {
      "text/plain": [
       "Text(0, 0.5, 'Average Gross(in $100 million)')"
      ]
     },
     "execution_count": 44,
     "metadata": {},
     "output_type": "execute_result"
    },
    {
     "data": {
      "image/png": "[encoded data removed]",
      "text/plain": [
       "<Figure size 720x720 with 1 Axes>"
      ]
     },
     "metadata": {
      "needs_background": "light"
     },
     "output_type": "display_data"
    }
   ],
   "source": [
    "# Plot data\n",
    "final_gross_avg.plot(kind='bar', stacked=True, figsize=(10,10))\n",
    "plt.title('Average Gross per Genre')\n",
    "plt.xlabel('Genre')\n",
    "plt.ylabel('Average Gross(in $100 million)')"
   ]
  },
  {
   "cell_type": "markdown",
   "metadata": {},
   "source": [
    "These two visualization of both total gross revenue per genre and average gross revenue per genre provide very useful insights:\n",
    "\n",
    "1. Adventure is the has the highest grossing average out of the top 8 movies based on occurence. \n",
    "\n",
    "2. When looking at the 'Adventure' genre, we see that it performs markedly better worldwide than domestically\n",
    "\n",
    "Using these insights, we can conclude that Microsoft should focus on releasing a movie from the 'Adventure' genre, while also taking preliminary action towards advertisement and the securing of movie distribution rights in international countries of interest. This will encourage greater success for the release."
   ]
  },
  {
   "cell_type": "markdown",
   "metadata": {},
   "source": [
    "## Average Profit per Genre"
   ]
  },
  {
   "cell_type": "code",
   "execution_count": 45,
   "metadata": {},
   "outputs": [],
   "source": [
    "# Final total profit (Gross - Budget) for each genre\n",
    "genre1_total_profit = genres.groupby('genre1')['profit'].sum()\n",
    "genre2_total_profit = genres.groupby('genre2')['profit'].sum()\n",
    "genre3_total_profit = genres.groupby('genre3')['profit'].sum()\n",
    "# Sum up calculated values and drop insignificant genres\n",
    "genre_overall_profit = genre1_total_profit.add(genre2_total_profit, fill_value=0).add(genre3_total_profit, fill_value=0)\n",
    "final_genre_profit_df = genre_overall_profit.drop(['News', 'Reality-TV', 'Romance', 'Biography', 'Mystery', 'Sci-Fi', 'Family', 'Fantasy', 'Animation', 'History', 'Music', 'Sport', 'War', 'Musical', 'Western'])\n",
    "# final_genre_profit_df\n",
    "\n",
    "# Concatenate the two series(count and final_genre_profit_df) to create a DataFrame organized by index\n",
    "merged = pd.concat([final_genre_profit_df, count], axis=1)\n",
    "# Rename the column's\n",
    "final_merged = merged.rename(columns={0:'count'})\n",
    "# Calculate average profit\n",
    "final_merged['average_profit'] = final_merged['profit'] / final_merged['count']\n",
    "# Drop insignificant rows (insignificant due to low amount of entries)\n",
    "averages = final_merged.drop(['News', 'Reality-TV', 'Romance', 'Biography', 'Mystery', 'Sci-Fi', 'Family', 'Fantasy', 'Animation', 'History', 'Music', 'Sport', 'War', 'Musical', 'Western'])\n",
    "# Drop previously used catergories for easier plotting\n",
    "averages_without_profit = averages.drop(['profit', 'count'], axis=1)"
   ]
  },
  {
   "cell_type": "code",
   "execution_count": 46,
   "metadata": {},
   "outputs": [
    {
     "data": {
      "text/plain": [
       "Text(0, 0.5, 'Profit (in $100 millions)')"
      ]
     },
     "execution_count": 46,
     "metadata": {},
     "output_type": "execute_result"
    },
    {
     "data": {
      "image/png": "[encoded data removed]",
      "text/plain": [
       "<Figure size 720x720 with 1 Axes>"
      ]
     },
     "metadata": {
      "needs_background": "light"
     },
     "output_type": "display_data"
    }
   ],
   "source": [
    "# Plot data\n",
    "averages_without_profit.plot(kind='bar', figsize=(10,10))\n",
    "plt.title('Average Profit per Genre')\n",
    "plt.xlabel('Genre')\n",
    "plt.ylabel('Profit (in $100 millions)')"
   ]
  },
  {
   "cell_type": "markdown",
   "metadata": {},
   "source": [
    "This profit distribution is solely here to show that average profit is directly correlated to average gross, and therefore the average gross visualization is more insightful due to its further exploration into the extra variables of 'domestic gross' and 'worldwide gross'."
   ]
  },
  {
   "cell_type": "markdown",
   "metadata": {},
   "source": [
    "## Conclusions\n",
    "Provide your conclusions about the work you've done, including any limitations or next steps.\n",
    "\n",
    "***\n",
    "Questions to consider:\n",
    "* What would you recommend the business do as a result of this work?\n",
    "* What are some reasons why your analysis might not fully solve the business problem?\n",
    "* What else could you do in the future to improve this project?\n",
    "***"
   ]
  }
 ],
 "metadata": {
  "kernelspec": {
   "display_name": "Python 3",
   "language": "python",
   "name": "python3"
  },
  "language_info": {
   "codemirror_mode": {
    "name": "ipython",
    "version": 3
   },
   "file_extension": ".py",
   "mimetype": "text/x-python",
   "name": "python",
   "nbconvert_exporter": "python",
   "pygments_lexer": "ipython3",
   "version": "3.8.5"
  }
 },
 "nbformat": 4,
 "nbformat_minor": 4
}
